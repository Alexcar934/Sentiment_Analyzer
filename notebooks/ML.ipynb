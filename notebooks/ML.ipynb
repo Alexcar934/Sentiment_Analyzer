{
 "cells": [
  {
   "attachments": {},
   "cell_type": "markdown",
   "metadata": {},
   "source": [
    " \n",
    "1. [Regresión Logística](#id1)\n",
    "2. [Random Forest](#id2)\n",
    "\n"
   ]
  },
  {
   "cell_type": "code",
   "execution_count": 111,
   "metadata": {},
   "outputs": [
    {
     "name": "stdout",
     "output_type": "stream",
     "text": [
      "Note: you may need to restart the kernel to use updated packages.Requirement already satisfied: nltk in c:\\users\\alexc\\appdata\\local\\programs\\python\\python310\\lib\\site-packages (3.8.1)\n",
      "Requirement already satisfied: tqdm in c:\\users\\alexc\\appdata\\local\\programs\\python\\python310\\lib\\site-packages (from nltk) (4.65.0)\n",
      "Requirement already satisfied: click in c:\\users\\alexc\\appdata\\local\\programs\\python\\python310\\lib\\site-packages (from nltk) (8.1.6)\n",
      "Requirement already satisfied: joblib in c:\\users\\alexc\\appdata\\local\\programs\\python\\python310\\lib\\site-packages (from nltk) (1.2.0)\n",
      "Requirement already satisfied: regex>=2021.8.3 in c:\\users\\alexc\\appdata\\local\\programs\\python\\python310\\lib\\site-packages (from nltk) (2023.6.3)\n",
      "Requirement already satisfied: colorama in c:\\users\\alexc\\appdata\\roaming\\python\\python310\\site-packages (from click->nltk) (0.4.6)\n",
      "\n"
     ]
    },
    {
     "name": "stderr",
     "output_type": "stream",
     "text": [
      "\n",
      "[notice] A new release of pip is available: 23.0.1 -> 23.2\n",
      "[notice] To update, run: python.exe -m pip install --upgrade pip\n"
     ]
    }
   ],
   "source": [
    "%pip install nltk"
   ]
  },
  {
   "cell_type": "code",
   "execution_count": 112,
   "metadata": {},
   "outputs": [
    {
     "name": "stderr",
     "output_type": "stream",
     "text": [
      "[nltk_data] Downloading package stopwords to\n",
      "[nltk_data]     C:\\Users\\alexc\\AppData\\Roaming\\nltk_data...\n",
      "[nltk_data]   Package stopwords is already up-to-date!\n"
     ]
    },
    {
     "data": {
      "text/plain": [
       "True"
      ]
     },
     "execution_count": 112,
     "metadata": {},
     "output_type": "execute_result"
    }
   ],
   "source": [
    "import pandas as pd\n",
    "\n",
    "from sklearn.model_selection import train_test_split\n",
    "from sklearn.feature_extraction.text import TfidfVectorizer, CountVectorizer\n",
    "from sklearn.svm import SVC\n",
    "from sklearn.linear_model import LogisticRegression\n",
    "from sklearn.metrics import accuracy_score\n",
    "from sklearn.metrics import confusion_matrix\n",
    "from string import punctuation\n",
    "\n",
    "import nltk\n",
    "nltk.download('stopwords')\n",
    "\n",
    "import pickle\n",
    "import datetime as dt"
   ]
  },
  {
   "attachments": {},
   "cell_type": "markdown",
   "metadata": {},
   "source": [
    "### Sacamos el dataframe final"
   ]
  },
  {
   "cell_type": "code",
   "execution_count": 113,
   "metadata": {},
   "outputs": [],
   "source": [
    "df = pd.read_csv('../data/processed/Reviews_FINAL.csv',index_col=0)\n",
    "df.dropna(inplace=True)"
   ]
  },
  {
   "cell_type": "code",
   "execution_count": 157,
   "metadata": {},
   "outputs": [],
   "source": [
    "lista_target = []\n",
    "for i in df['Estrellas']:\n",
    "    if i < 4: \n",
    "        lista_target.append(0)\n",
    "    else:\n",
    "        lista_target.append(1)\n",
    "\n",
    "df['Target'] = lista_target"
   ]
  },
  {
   "cell_type": "code",
   "execution_count": 158,
   "metadata": {},
   "outputs": [
    {
     "data": {
      "text/html": [
       "<div>\n",
       "<style scoped>\n",
       "    .dataframe tbody tr th:only-of-type {\n",
       "        vertical-align: middle;\n",
       "    }\n",
       "\n",
       "    .dataframe tbody tr th {\n",
       "        vertical-align: top;\n",
       "    }\n",
       "\n",
       "    .dataframe thead th {\n",
       "        text-align: right;\n",
       "    }\n",
       "</style>\n",
       "<table border=\"1\" class=\"dataframe\">\n",
       "  <thead>\n",
       "    <tr style=\"text-align: right;\">\n",
       "      <th></th>\n",
       "      <th>Estrellas</th>\n",
       "      <th>Reseñas</th>\n",
       "      <th>Sentimiento</th>\n",
       "      <th>Texto procesado</th>\n",
       "      <th>Target</th>\n",
       "    </tr>\n",
       "  </thead>\n",
       "  <tbody>\n",
       "    <tr>\n",
       "      <th>0</th>\n",
       "      <td>5</td>\n",
       "      <td>Fiable con servicio al comprador incomparable....</td>\n",
       "      <td>1</td>\n",
       "      <td>fiabl con servici al comprador incompar total ...</td>\n",
       "      <td>1</td>\n",
       "    </tr>\n",
       "    <tr>\n",
       "      <th>1</th>\n",
       "      <td>1</td>\n",
       "      <td>Amazon exige que le entregue la firma del vend...</td>\n",
       "      <td>0</td>\n",
       "      <td>amazon exig que le entreg la firm del vendedor...</td>\n",
       "      <td>0</td>\n",
       "    </tr>\n",
       "    <tr>\n",
       "      <th>2</th>\n",
       "      <td>1</td>\n",
       "      <td>Hace unos días compré un lote y la… Hace unos ...</td>\n",
       "      <td>0</td>\n",
       "      <td>hac unos dias compr un lot y la… hac unos dias...</td>\n",
       "      <td>0</td>\n",
       "    </tr>\n",
       "    <tr>\n",
       "      <th>3</th>\n",
       "      <td>5</td>\n",
       "      <td>Amazon muy buena experiencia Años haciendo ped...</td>\n",
       "      <td>1</td>\n",
       "      <td>amazon muy buen experient años hac ped siend p...</td>\n",
       "      <td>1</td>\n",
       "    </tr>\n",
       "    <tr>\n",
       "      <th>4</th>\n",
       "      <td>1</td>\n",
       "      <td>La peor tienda online Es un completo asco de t...</td>\n",
       "      <td>0</td>\n",
       "      <td>la peor tiend onlin es un complet asco de tien...</td>\n",
       "      <td>0</td>\n",
       "    </tr>\n",
       "    <tr>\n",
       "      <th>...</th>\n",
       "      <td>...</td>\n",
       "      <td>...</td>\n",
       "      <td>...</td>\n",
       "      <td>...</td>\n",
       "      <td>...</td>\n",
       "    </tr>\n",
       "    <tr>\n",
       "      <th>92344</th>\n",
       "      <td>5</td>\n",
       "      <td>Siempre perfectos Siempre perfectos.  Y tuve q...</td>\n",
       "      <td>1</td>\n",
       "      <td>siempr perfect siempr perfect y tuv que utiliz...</td>\n",
       "      <td>1</td>\n",
       "    </tr>\n",
       "    <tr>\n",
       "      <th>92345</th>\n",
       "      <td>5</td>\n",
       "      <td>Bueno de momento bien Bueno de momento bien. a...</td>\n",
       "      <td>1</td>\n",
       "      <td>buen de moment bien buen de moment bien a ver ...</td>\n",
       "      <td>1</td>\n",
       "    </tr>\n",
       "    <tr>\n",
       "      <th>92346</th>\n",
       "      <td>5</td>\n",
       "      <td>Muy fácil realizar la reserva Muy fácil realiz...</td>\n",
       "      <td>1</td>\n",
       "      <td>muy facil realiz la reserv muy facil realiz la...</td>\n",
       "      <td>1</td>\n",
       "    </tr>\n",
       "    <tr>\n",
       "      <th>92347</th>\n",
       "      <td>5</td>\n",
       "      <td>Fácil cómodo y económico Fácil cómodo y económ...</td>\n",
       "      <td>1</td>\n",
       "      <td>facil comod y econom facil comod y econom buen...</td>\n",
       "      <td>1</td>\n",
       "    </tr>\n",
       "    <tr>\n",
       "      <th>92348</th>\n",
       "      <td>5</td>\n",
       "      <td>todo perfecto</td>\n",
       "      <td>1</td>\n",
       "      <td>tod perfect</td>\n",
       "      <td>1</td>\n",
       "    </tr>\n",
       "  </tbody>\n",
       "</table>\n",
       "<p>92338 rows × 5 columns</p>\n",
       "</div>"
      ],
      "text/plain": [
       "       Estrellas                                            Reseñas  \\\n",
       "0              5  Fiable con servicio al comprador incomparable....   \n",
       "1              1  Amazon exige que le entregue la firma del vend...   \n",
       "2              1  Hace unos días compré un lote y la… Hace unos ...   \n",
       "3              5  Amazon muy buena experiencia Años haciendo ped...   \n",
       "4              1  La peor tienda online Es un completo asco de t...   \n",
       "...          ...                                                ...   \n",
       "92344          5  Siempre perfectos Siempre perfectos.  Y tuve q...   \n",
       "92345          5  Bueno de momento bien Bueno de momento bien. a...   \n",
       "92346          5  Muy fácil realizar la reserva Muy fácil realiz...   \n",
       "92347          5  Fácil cómodo y económico Fácil cómodo y económ...   \n",
       "92348          5                                      todo perfecto   \n",
       "\n",
       "       Sentimiento                                    Texto procesado  Target  \n",
       "0                1  fiabl con servici al comprador incompar total ...       1  \n",
       "1                0  amazon exig que le entreg la firm del vendedor...       0  \n",
       "2                0  hac unos dias compr un lot y la… hac unos dias...       0  \n",
       "3                1  amazon muy buen experient años hac ped siend p...       1  \n",
       "4                0  la peor tiend onlin es un complet asco de tien...       0  \n",
       "...            ...                                                ...     ...  \n",
       "92344            1  siempr perfect siempr perfect y tuv que utiliz...       1  \n",
       "92345            1  buen de moment bien buen de moment bien a ver ...       1  \n",
       "92346            1  muy facil realiz la reserv muy facil realiz la...       1  \n",
       "92347            1  facil comod y econom facil comod y econom buen...       1  \n",
       "92348            1                                        tod perfect       1  \n",
       "\n",
       "[92338 rows x 5 columns]"
      ]
     },
     "execution_count": 158,
     "metadata": {},
     "output_type": "execute_result"
    }
   ],
   "source": [
    "df"
   ]
  },
  {
   "attachments": {},
   "cell_type": "markdown",
   "metadata": {},
   "source": [
    "## Regresión Logística <a name=\"id1\"></a>\n"
   ]
  },
  {
   "attachments": {},
   "cell_type": "markdown",
   "metadata": {},
   "source": [
    "#### Probamos con CountVectorizer"
   ]
  },
  {
   "cell_type": "code",
   "execution_count": 151,
   "metadata": {},
   "outputs": [
    {
     "name": "stderr",
     "output_type": "stream",
     "text": [
      "c:\\Users\\alexc\\AppData\\Local\\Programs\\Python\\Python310\\lib\\site-packages\\sklearn\\linear_model\\_logistic.py:458: ConvergenceWarning: lbfgs failed to converge (status=1):\n",
      "STOP: TOTAL NO. of ITERATIONS REACHED LIMIT.\n",
      "\n",
      "Increase the number of iterations (max_iter) or scale the data as shown in:\n",
      "    https://scikit-learn.org/stable/modules/preprocessing.html\n",
      "Please also refer to the documentation for alternative solver options:\n",
      "    https://scikit-learn.org/stable/modules/linear_model.html#logistic-regression\n",
      "  n_iter_i = _check_optimize_result(\n"
     ]
    },
    {
     "name": "stdout",
     "output_type": "stream",
     "text": [
      "Precisión del modelo: 0.9529997834091402\n"
     ]
    },
    {
     "name": "stderr",
     "output_type": "stream",
     "text": [
      "c:\\Users\\alexc\\AppData\\Local\\Programs\\Python\\Python310\\lib\\site-packages\\sklearn\\linear_model\\_logistic.py:458: ConvergenceWarning: lbfgs failed to converge (status=1):\n",
      "STOP: TOTAL NO. of ITERATIONS REACHED LIMIT.\n",
      "\n",
      "Increase the number of iterations (max_iter) or scale the data as shown in:\n",
      "    https://scikit-learn.org/stable/modules/preprocessing.html\n",
      "Please also refer to the documentation for alternative solver options:\n",
      "    https://scikit-learn.org/stable/modules/linear_model.html#logistic-regression\n",
      "  n_iter_i = _check_optimize_result(\n"
     ]
    },
    {
     "name": "stdout",
     "output_type": "stream",
     "text": [
      "Precisión del modelo: 0.9520792722547109\n"
     ]
    },
    {
     "name": "stderr",
     "output_type": "stream",
     "text": [
      "c:\\Users\\alexc\\AppData\\Local\\Programs\\Python\\Python310\\lib\\site-packages\\sklearn\\linear_model\\_logistic.py:458: ConvergenceWarning: lbfgs failed to converge (status=1):\n",
      "STOP: TOTAL NO. of ITERATIONS REACHED LIMIT.\n",
      "\n",
      "Increase the number of iterations (max_iter) or scale the data as shown in:\n",
      "    https://scikit-learn.org/stable/modules/preprocessing.html\n",
      "Please also refer to the documentation for alternative solver options:\n",
      "    https://scikit-learn.org/stable/modules/linear_model.html#logistic-regression\n",
      "  n_iter_i = _check_optimize_result(\n"
     ]
    },
    {
     "name": "stdout",
     "output_type": "stream",
     "text": [
      "Precisión del modelo: 0.9505631362356508\n",
      "Precisión del modelo: 0.9502923976608187\n"
     ]
    },
    {
     "name": "stderr",
     "output_type": "stream",
     "text": [
      "c:\\Users\\alexc\\AppData\\Local\\Programs\\Python\\Python310\\lib\\site-packages\\sklearn\\linear_model\\_logistic.py:458: ConvergenceWarning: lbfgs failed to converge (status=1):\n",
      "STOP: TOTAL NO. of ITERATIONS REACHED LIMIT.\n",
      "\n",
      "Increase the number of iterations (max_iter) or scale the data as shown in:\n",
      "    https://scikit-learn.org/stable/modules/preprocessing.html\n",
      "Please also refer to the documentation for alternative solver options:\n",
      "    https://scikit-learn.org/stable/modules/linear_model.html#logistic-regression\n",
      "  n_iter_i = _check_optimize_result(\n"
     ]
    }
   ],
   "source": [
    "for i in range(3,7):\n",
    "    X_train, X_test, y_train, y_test = train_test_split(df['Texto procesado'], df['Target'], test_size=0.2)\n",
    "\n",
    "    vectorizer = CountVectorizer(ngram_range = (1,3))\n",
    "    X_train_vectors = vectorizer.fit_transform(X_train)\n",
    "    X_test_vectors = vectorizer.transform(X_test)\n",
    "\n",
    "    classifier = LogisticRegression(C=i)\n",
    "    classifier.fit(X_train_vectors, y_train)\n",
    "\n",
    "    y_pred = classifier.predict(X_test_vectors)\n",
    "    accuracy = accuracy_score(y_test, y_pred)\n",
    "    print(\"Precisión del modelo:\", accuracy)\n",
    "\n",
    "    confusion_matrix(y_test, y_pred)\n",
    "    \n",
    "\n",
    "    "
   ]
  },
  {
   "attachments": {},
   "cell_type": "markdown",
   "metadata": {},
   "source": [
    "#### Comprobación del modelo"
   ]
  },
  {
   "attachments": {},
   "cell_type": "markdown",
   "metadata": {},
   "source": [
    "----"
   ]
  },
  {
   "cell_type": "code",
   "execution_count": null,
   "metadata": {},
   "outputs": [],
   "source": []
  },
  {
   "cell_type": "code",
   "execution_count": 159,
   "metadata": {},
   "outputs": [],
   "source": [
    "df_predicciones = pd.DataFrame()\n",
    "df_predicciones['Real'] = y_test\n",
    "df_predicciones['Predicción'] = y_pred\n",
    "df_predicciones['Texto procesado'] = X_test\n",
    "df_predicciones_mal = df_predicciones[df_predicciones['Real'] - df_predicciones['Predicción'] != 0]"
   ]
  },
  {
   "cell_type": "code",
   "execution_count": 160,
   "metadata": {},
   "outputs": [
    {
     "data": {
      "text/html": [
       "<div>\n",
       "<style scoped>\n",
       "    .dataframe tbody tr th:only-of-type {\n",
       "        vertical-align: middle;\n",
       "    }\n",
       "\n",
       "    .dataframe tbody tr th {\n",
       "        vertical-align: top;\n",
       "    }\n",
       "\n",
       "    .dataframe thead th {\n",
       "        text-align: right;\n",
       "    }\n",
       "</style>\n",
       "<table border=\"1\" class=\"dataframe\">\n",
       "  <thead>\n",
       "    <tr style=\"text-align: right;\">\n",
       "      <th></th>\n",
       "      <th>Real</th>\n",
       "      <th>Predicción</th>\n",
       "      <th>Texto procesado</th>\n",
       "      <th>Estrellas</th>\n",
       "      <th>Reseñas</th>\n",
       "      <th>Sentimiento</th>\n",
       "      <th>Target</th>\n",
       "    </tr>\n",
       "  </thead>\n",
       "  <tbody>\n",
       "    <tr>\n",
       "      <th>0</th>\n",
       "      <td>1</td>\n",
       "      <td>0</td>\n",
       "      <td>hay siti dond aun no se… hay siti dond aun no ...</td>\n",
       "      <td>4</td>\n",
       "      <td>Hay sitios donde aún no se… Hay sitios donde a...</td>\n",
       "      <td>1</td>\n",
       "      <td>1</td>\n",
       "    </tr>\n",
       "    <tr>\n",
       "      <th>1</th>\n",
       "      <td>1</td>\n",
       "      <td>0</td>\n",
       "      <td>econom en compar al rest de la… econom en comp...</td>\n",
       "      <td>4</td>\n",
       "      <td>ECONOMICO  EN  COMPARACION  AL  RESTO  DE  LA…...</td>\n",
       "      <td>1</td>\n",
       "      <td>1</td>\n",
       "    </tr>\n",
       "    <tr>\n",
       "      <th>2</th>\n",
       "      <td>1</td>\n",
       "      <td>0</td>\n",
       "      <td>por tra el paquet por la tard por tra el paque...</td>\n",
       "      <td>5</td>\n",
       "      <td>Por traerme el paquete por la tarde Por traerm...</td>\n",
       "      <td>1</td>\n",
       "      <td>1</td>\n",
       "    </tr>\n",
       "    <tr>\n",
       "      <th>3</th>\n",
       "      <td>0</td>\n",
       "      <td>1</td>\n",
       "      <td>me ha hech dos carg del mism viaj</td>\n",
       "      <td>1</td>\n",
       "      <td>Me ha hecho dos cargos del mismo viaje</td>\n",
       "      <td>0</td>\n",
       "      <td>0</td>\n",
       "    </tr>\n",
       "    <tr>\n",
       "      <th>4</th>\n",
       "      <td>0</td>\n",
       "      <td>1</td>\n",
       "      <td>bastant bien</td>\n",
       "      <td>5</td>\n",
       "      <td>Bastante bien</td>\n",
       "      <td>1</td>\n",
       "      <td>1</td>\n",
       "    </tr>\n",
       "    <tr>\n",
       "      <th>...</th>\n",
       "      <td>...</td>\n",
       "      <td>...</td>\n",
       "      <td>...</td>\n",
       "      <td>...</td>\n",
       "      <td>...</td>\n",
       "      <td>...</td>\n",
       "      <td>...</td>\n",
       "    </tr>\n",
       "    <tr>\n",
       "      <th>1254</th>\n",
       "      <td>0</td>\n",
       "      <td>1</td>\n",
       "      <td>la verd estoy asust con las… la verd estoy asu...</td>\n",
       "      <td>1</td>\n",
       "      <td>La verdad estoy asustada con las… La verdad es...</td>\n",
       "      <td>0</td>\n",
       "      <td>0</td>\n",
       "    </tr>\n",
       "    <tr>\n",
       "      <th>1255</th>\n",
       "      <td>0</td>\n",
       "      <td>1</td>\n",
       "      <td>hac años funcion bien hac años funcion bien ul...</td>\n",
       "      <td>2</td>\n",
       "      <td>Hace años funcionaban bien Hace años funcionab...</td>\n",
       "      <td>0</td>\n",
       "      <td>0</td>\n",
       "    </tr>\n",
       "    <tr>\n",
       "      <th>1256</th>\n",
       "      <td>1</td>\n",
       "      <td>0</td>\n",
       "      <td>este es mi rating este es mi rating deb a un p...</td>\n",
       "      <td>4</td>\n",
       "      <td>Este es mi rating Este es mi rating, debido a ...</td>\n",
       "      <td>1</td>\n",
       "      <td>1</td>\n",
       "    </tr>\n",
       "    <tr>\n",
       "      <th>1257</th>\n",
       "      <td>1</td>\n",
       "      <td>0</td>\n",
       "      <td>en el preci per el apartament muy… en el preci...</td>\n",
       "      <td>5</td>\n",
       "      <td>En el precio pero el apartamento muy… En el pr...</td>\n",
       "      <td>1</td>\n",
       "      <td>1</td>\n",
       "    </tr>\n",
       "    <tr>\n",
       "      <th>1258</th>\n",
       "      <td>0</td>\n",
       "      <td>1</td>\n",
       "      <td>los trasl entre aeropuert es muy… los trasl en...</td>\n",
       "      <td>1</td>\n",
       "      <td>Los traslados entre aeropuertos es muy… Los tr...</td>\n",
       "      <td>0</td>\n",
       "      <td>0</td>\n",
       "    </tr>\n",
       "  </tbody>\n",
       "</table>\n",
       "<p>1259 rows × 7 columns</p>\n",
       "</div>"
      ],
      "text/plain": [
       "      Real  Predicción                                    Texto procesado  \\\n",
       "0        1           0  hay siti dond aun no se… hay siti dond aun no ...   \n",
       "1        1           0  econom en compar al rest de la… econom en comp...   \n",
       "2        1           0  por tra el paquet por la tard por tra el paque...   \n",
       "3        0           1                  me ha hech dos carg del mism viaj   \n",
       "4        0           1                                       bastant bien   \n",
       "...    ...         ...                                                ...   \n",
       "1254     0           1  la verd estoy asust con las… la verd estoy asu...   \n",
       "1255     0           1  hac años funcion bien hac años funcion bien ul...   \n",
       "1256     1           0  este es mi rating este es mi rating deb a un p...   \n",
       "1257     1           0  en el preci per el apartament muy… en el preci...   \n",
       "1258     0           1  los trasl entre aeropuert es muy… los trasl en...   \n",
       "\n",
       "      Estrellas                                            Reseñas  \\\n",
       "0             4  Hay sitios donde aún no se… Hay sitios donde a...   \n",
       "1             4  ECONOMICO  EN  COMPARACION  AL  RESTO  DE  LA…...   \n",
       "2             5  Por traerme el paquete por la tarde Por traerm...   \n",
       "3             1             Me ha hecho dos cargos del mismo viaje   \n",
       "4             5                                      Bastante bien   \n",
       "...         ...                                                ...   \n",
       "1254          1  La verdad estoy asustada con las… La verdad es...   \n",
       "1255          2  Hace años funcionaban bien Hace años funcionab...   \n",
       "1256          4  Este es mi rating Este es mi rating, debido a ...   \n",
       "1257          5  En el precio pero el apartamento muy… En el pr...   \n",
       "1258          1  Los traslados entre aeropuertos es muy… Los tr...   \n",
       "\n",
       "      Sentimiento  Target  \n",
       "0               1       1  \n",
       "1               1       1  \n",
       "2               1       1  \n",
       "3               0       0  \n",
       "4               1       1  \n",
       "...           ...     ...  \n",
       "1254            0       0  \n",
       "1255            0       0  \n",
       "1256            1       1  \n",
       "1257            1       1  \n",
       "1258            0       0  \n",
       "\n",
       "[1259 rows x 7 columns]"
      ]
     },
     "execution_count": 160,
     "metadata": {},
     "output_type": "execute_result"
    }
   ],
   "source": [
    "df_predicciones_mal.merge(df, how = 'inner', on = 'Texto procesado')"
   ]
  },
  {
   "cell_type": "code",
   "execution_count": 129,
   "metadata": {},
   "outputs": [
    {
     "data": {
      "text/plain": [
       "'atencion al client el chic que atendi no entendi el… el chic que atendi no entendi el catal en barcelon es rar trabaj en la tiend de francesc maci por suert yo habl catal ycastellan pud cambi graci'"
      ]
     },
     "execution_count": 129,
     "metadata": {},
     "output_type": "execute_result"
    }
   ],
   "source": [
    "df_comprobacion  = df_predicciones[df_predicciones['Real']-df_predicciones['Predicción']!= 0]\n",
    "df_comprobacion.iloc[0,-1]"
   ]
  },
  {
   "cell_type": "code",
   "execution_count": 120,
   "metadata": {},
   "outputs": [
    {
     "data": {
      "text/plain": [
       "1    10167\n",
       "0     8301\n",
       "Name: Predicción, dtype: int64"
      ]
     },
     "execution_count": 120,
     "metadata": {},
     "output_type": "execute_result"
    }
   ],
   "source": [
    "df_predicciones['Predicción'].value_counts()"
   ]
  },
  {
   "cell_type": "code",
   "execution_count": 130,
   "metadata": {},
   "outputs": [],
   "source": [
    "from nltk.stem.snowball import SnowballStemmer\n",
    "\n",
    "stopwords = nltk.corpus.stopwords.words('spanish')\n",
    "stemmer = SnowballStemmer(\"spanish\")\n",
    "def preprocess_text(text):\n",
    "    # Eliminar puntuación\n",
    "    text = ''.join([c for c in text if c not in punctuation])\n",
    "\n",
    "    # Convertir a minúsculas\n",
    "    text = text.lower()\n",
    "\n",
    "    # Tokenización\n",
    "    tokens = nltk.word_tokenize(text)\n",
    "\n",
    "    # # Eliminar palabras de parada\n",
    "    # tokens = [word for word in tokens if word not in stopwords]\n",
    "\n",
    "    #Aplicar un stemmer\n",
    "    stemmed_tokens = [stemmer.stem(token) for token in tokens]\n",
    "    stemmed_text = \" \".join(stemmed_tokens)\n",
    "    return stemmed_text"
   ]
  },
  {
   "cell_type": "code",
   "execution_count": 131,
   "metadata": {},
   "outputs": [
    {
     "data": {
      "text/plain": [
       "array([1], dtype=int64)"
      ]
     },
     "execution_count": 131,
     "metadata": {},
     "output_type": "execute_result"
    }
   ],
   "source": [
    "new_text = \"\"\"\n",
    "De momento solo he hecho la reserva, pero me ha resultado sencillo y además me ha ofrecido mejor precio que otro comparados.\"\"\"\n",
    "\n",
    "processed_text = preprocess_text(new_text)\n",
    "new_text_vector = vectorizer.transform([processed_text])\n",
    "prediction = classifier.predict(new_text_vector)\n",
    "prediction\n"
   ]
  },
  {
   "cell_type": "code",
   "execution_count": 15,
   "metadata": {},
   "outputs": [
    {
     "name": "stdout",
     "output_type": "stream",
     "text": [
      "Ya hemos comprado tres ventiladores en Create, son muy bonitos y funcionan muy bien, solo he tenido alguna incidencia con el wifi que se desconfigura de vez en cuando, pero recomiendo los ventiladores cien por cien.\n",
      "La empresa me parece muy seria y tiene muy buena calidad.\n",
      "Pongo 4 estrellas porque nunca pongo 5 pero realmente estoy muy contenta\n",
      "compr tres ventil creat bonit funcion bien sol algun incident wifi desconfigur vez recom ventil cien cien empres parec seri buen calid pong 4 estrell nunc pong 5 realment content\n",
      "  (0, 126192)\t1\n",
      "  (0, 127479)\t1\n",
      "  (0, 263231)\t1\n",
      "  (0, 270509)\t1\n",
      "  (0, 270513)\t1\n",
      "  (0, 282164)\t1\n",
      "  (0, 290423)\t1\n",
      "  (0, 291792)\t1\n",
      "  (0, 314553)\t1\n",
      "  (0, 374448)\t2\n",
      "  (0, 374460)\t1\n",
      "  (0, 442204)\t1\n",
      "  (0, 461776)\t1\n",
      "  (0, 461800)\t1\n",
      "  (0, 508696)\t1\n",
      "  (0, 548734)\t1\n",
      "  (0, 636633)\t1\n",
      "  (0, 788669)\t1\n",
      "  (0, 792862)\t1\n",
      "  (0, 792878)\t1\n",
      "  (0, 887499)\t1\n",
      "  (0, 888340)\t1\n",
      "  (0, 983555)\t1\n",
      "  (0, 983914)\t1\n",
      "  (0, 984148)\t1\n",
      "  (0, 1112168)\t1\n",
      "  (0, 1417189)\t1\n",
      "  (0, 1420311)\t1\n",
      "  (0, 1495050)\t1\n",
      "  (0, 1498149)\t1\n",
      "  (0, 1498153)\t1\n",
      "  (0, 1606363)\t2\n",
      "  (0, 1606909)\t1\n",
      "  (0, 1743627)\t1\n",
      "  (0, 1743825)\t1\n",
      "  (0, 1764636)\t1\n",
      "  (0, 1894722)\t1\n",
      "  (0, 1894890)\t1\n",
      "  (0, 1961101)\t1\n",
      "  (0, 1961507)\t1\n",
      "  (0, 2102778)\t1\n",
      "  (0, 2104113)\t1\n",
      "  (0, 2176217)\t2\n",
      "  (0, 2176349)\t1\n",
      "  (0, 2190852)\t1\n",
      "  (0, 2194925)\t1\n",
      "  (0, 2249163)\t1\n",
      "[0 0 0 ... 0 0 0]\n"
     ]
    }
   ],
   "source": [
    "print(new_text)\n",
    "print(processed_text)\n",
    "print(new_text_vector)\n",
    "\n",
    "puntajes_tfidf = new_text_vector.toarray()[0]\n",
    "print(puntajes_tfidf)\n",
    "vocabulario = vectorizer.vocabulary_\n",
    "\n"
   ]
  },
  {
   "attachments": {},
   "cell_type": "markdown",
   "metadata": {},
   "source": [
    "## Grid Search CV <a name=\"id2\"></a>\n",
    "\n",
    "Vamos a probar con un Grid Search CV"
   ]
  },
  {
   "cell_type": "code",
   "execution_count": 52,
   "metadata": {},
   "outputs": [],
   "source": [
    "import numpy as np\n",
    "from sklearn.pipeline import Pipeline\n",
    "from sklearn.ensemble import RandomForestClassifier\n",
    "from sklearn.model_selection import GridSearchCV"
   ]
  },
  {
   "cell_type": "code",
   "execution_count": 162,
   "metadata": {},
   "outputs": [
    {
     "name": "stderr",
     "output_type": "stream",
     "text": [
      "c:\\Users\\alexc\\AppData\\Local\\Programs\\Python\\Python310\\lib\\site-packages\\sklearn\\linear_model\\_logistic.py:458: ConvergenceWarning: lbfgs failed to converge (status=1):\n",
      "STOP: TOTAL NO. of ITERATIONS REACHED LIMIT.\n",
      "\n",
      "Increase the number of iterations (max_iter) or scale the data as shown in:\n",
      "    https://scikit-learn.org/stable/modules/preprocessing.html\n",
      "Please also refer to the documentation for alternative solver options:\n",
      "    https://scikit-learn.org/stable/modules/linear_model.html#logistic-regression\n",
      "  n_iter_i = _check_optimize_result(\n"
     ]
    },
    {
     "data": {
      "text/html": [
       "<style>#sk-container-id-5 {color: black;background-color: white;}#sk-container-id-5 pre{padding: 0;}#sk-container-id-5 div.sk-toggleable {background-color: white;}#sk-container-id-5 label.sk-toggleable__label {cursor: pointer;display: block;width: 100%;margin-bottom: 0;padding: 0.3em;box-sizing: border-box;text-align: center;}#sk-container-id-5 label.sk-toggleable__label-arrow:before {content: \"▸\";float: left;margin-right: 0.25em;color: #696969;}#sk-container-id-5 label.sk-toggleable__label-arrow:hover:before {color: black;}#sk-container-id-5 div.sk-estimator:hover label.sk-toggleable__label-arrow:before {color: black;}#sk-container-id-5 div.sk-toggleable__content {max-height: 0;max-width: 0;overflow: hidden;text-align: left;background-color: #f0f8ff;}#sk-container-id-5 div.sk-toggleable__content pre {margin: 0.2em;color: black;border-radius: 0.25em;background-color: #f0f8ff;}#sk-container-id-5 input.sk-toggleable__control:checked~div.sk-toggleable__content {max-height: 200px;max-width: 100%;overflow: auto;}#sk-container-id-5 input.sk-toggleable__control:checked~label.sk-toggleable__label-arrow:before {content: \"▾\";}#sk-container-id-5 div.sk-estimator input.sk-toggleable__control:checked~label.sk-toggleable__label {background-color: #d4ebff;}#sk-container-id-5 div.sk-label input.sk-toggleable__control:checked~label.sk-toggleable__label {background-color: #d4ebff;}#sk-container-id-5 input.sk-hidden--visually {border: 0;clip: rect(1px 1px 1px 1px);clip: rect(1px, 1px, 1px, 1px);height: 1px;margin: -1px;overflow: hidden;padding: 0;position: absolute;width: 1px;}#sk-container-id-5 div.sk-estimator {font-family: monospace;background-color: #f0f8ff;border: 1px dotted black;border-radius: 0.25em;box-sizing: border-box;margin-bottom: 0.5em;}#sk-container-id-5 div.sk-estimator:hover {background-color: #d4ebff;}#sk-container-id-5 div.sk-parallel-item::after {content: \"\";width: 100%;border-bottom: 1px solid gray;flex-grow: 1;}#sk-container-id-5 div.sk-label:hover label.sk-toggleable__label {background-color: #d4ebff;}#sk-container-id-5 div.sk-serial::before {content: \"\";position: absolute;border-left: 1px solid gray;box-sizing: border-box;top: 0;bottom: 0;left: 50%;z-index: 0;}#sk-container-id-5 div.sk-serial {display: flex;flex-direction: column;align-items: center;background-color: white;padding-right: 0.2em;padding-left: 0.2em;position: relative;}#sk-container-id-5 div.sk-item {position: relative;z-index: 1;}#sk-container-id-5 div.sk-parallel {display: flex;align-items: stretch;justify-content: center;background-color: white;position: relative;}#sk-container-id-5 div.sk-item::before, #sk-container-id-5 div.sk-parallel-item::before {content: \"\";position: absolute;border-left: 1px solid gray;box-sizing: border-box;top: 0;bottom: 0;left: 50%;z-index: -1;}#sk-container-id-5 div.sk-parallel-item {display: flex;flex-direction: column;z-index: 1;position: relative;background-color: white;}#sk-container-id-5 div.sk-parallel-item:first-child::after {align-self: flex-end;width: 50%;}#sk-container-id-5 div.sk-parallel-item:last-child::after {align-self: flex-start;width: 50%;}#sk-container-id-5 div.sk-parallel-item:only-child::after {width: 0;}#sk-container-id-5 div.sk-dashed-wrapped {border: 1px dashed gray;margin: 0 0.4em 0.5em 0.4em;box-sizing: border-box;padding-bottom: 0.4em;background-color: white;}#sk-container-id-5 div.sk-label label {font-family: monospace;font-weight: bold;display: inline-block;line-height: 1.2em;}#sk-container-id-5 div.sk-label-container {text-align: center;}#sk-container-id-5 div.sk-container {/* jupyter's `normalize.less` sets `[hidden] { display: none; }` but bootstrap.min.css set `[hidden] { display: none !important; }` so we also need the `!important` here to be able to override the default hidden behavior on the sphinx rendered scikit-learn.org. See: https://github.com/scikit-learn/scikit-learn/issues/21755 */display: inline-block !important;position: relative;}#sk-container-id-5 div.sk-text-repr-fallback {display: none;}</style><div id=\"sk-container-id-5\" class=\"sk-top-container\"><div class=\"sk-text-repr-fallback\"><pre>GridSearchCV(cv=10,\n",
       "             estimator=Pipeline(steps=[(&#x27;classifier&#x27;, LogisticRegression())]),\n",
       "             n_jobs=-1,\n",
       "             param_grid=[{&#x27;classifier&#x27;: [LogisticRegression(C=1)],\n",
       "                          &#x27;classifier__C&#x27;: [1, 2.5, 3, 3.5, 4],\n",
       "                          &#x27;classifier__penalty&#x27;: [&#x27;l2&#x27;]}])</pre><b>In a Jupyter environment, please rerun this cell to show the HTML representation or trust the notebook. <br />On GitHub, the HTML representation is unable to render, please try loading this page with nbviewer.org.</b></div><div class=\"sk-container\" hidden><div class=\"sk-item sk-dashed-wrapped\"><div class=\"sk-label-container\"><div class=\"sk-label sk-toggleable\"><input class=\"sk-toggleable__control sk-hidden--visually\" id=\"sk-estimator-id-7\" type=\"checkbox\" ><label for=\"sk-estimator-id-7\" class=\"sk-toggleable__label sk-toggleable__label-arrow\">GridSearchCV</label><div class=\"sk-toggleable__content\"><pre>GridSearchCV(cv=10,\n",
       "             estimator=Pipeline(steps=[(&#x27;classifier&#x27;, LogisticRegression())]),\n",
       "             n_jobs=-1,\n",
       "             param_grid=[{&#x27;classifier&#x27;: [LogisticRegression(C=1)],\n",
       "                          &#x27;classifier__C&#x27;: [1, 2.5, 3, 3.5, 4],\n",
       "                          &#x27;classifier__penalty&#x27;: [&#x27;l2&#x27;]}])</pre></div></div></div><div class=\"sk-parallel\"><div class=\"sk-parallel-item\"><div class=\"sk-item\"><div class=\"sk-label-container\"><div class=\"sk-label sk-toggleable\"><input class=\"sk-toggleable__control sk-hidden--visually\" id=\"sk-estimator-id-8\" type=\"checkbox\" ><label for=\"sk-estimator-id-8\" class=\"sk-toggleable__label sk-toggleable__label-arrow\">estimator: Pipeline</label><div class=\"sk-toggleable__content\"><pre>Pipeline(steps=[(&#x27;classifier&#x27;, LogisticRegression())])</pre></div></div></div><div class=\"sk-serial\"><div class=\"sk-item\"><div class=\"sk-serial\"><div class=\"sk-item\"><div class=\"sk-estimator sk-toggleable\"><input class=\"sk-toggleable__control sk-hidden--visually\" id=\"sk-estimator-id-9\" type=\"checkbox\" ><label for=\"sk-estimator-id-9\" class=\"sk-toggleable__label sk-toggleable__label-arrow\">LogisticRegression</label><div class=\"sk-toggleable__content\"><pre>LogisticRegression()</pre></div></div></div></div></div></div></div></div></div></div></div></div>"
      ],
      "text/plain": [
       "GridSearchCV(cv=10,\n",
       "             estimator=Pipeline(steps=[('classifier', LogisticRegression())]),\n",
       "             n_jobs=-1,\n",
       "             param_grid=[{'classifier': [LogisticRegression(C=1)],\n",
       "                          'classifier__C': [1, 2.5, 3, 3.5, 4],\n",
       "                          'classifier__penalty': ['l2']}])"
      ]
     },
     "execution_count": 162,
     "metadata": {},
     "output_type": "execute_result"
    }
   ],
   "source": [
    "X_train, X_test, y_train, y_test = train_test_split(df['Texto procesado'], df['Target'], test_size=0.2)\n",
    "\n",
    "vectorizer = CountVectorizer(ngram_range=(1,3))\n",
    "X_train_vectors = vectorizer.fit_transform(X_train)\n",
    "X_test_vectors = vectorizer.transform(X_test)\n",
    "\n",
    "pipe = Pipeline(steps=[(\"classifier\", LogisticRegression())])\n",
    "\n",
    "logistic_params = {\n",
    "    'classifier': [LogisticRegression()],\n",
    "    'classifier__penalty': ['l1','l2'],\n",
    "    'classifier__C': [1,2.5,3,3.5,4]\n",
    "}\n",
    "\n",
    "search_space = [logistic_params]\n",
    "\n",
    "grid = GridSearchCV(pipe,\n",
    "                   search_space,\n",
    "                   cv = 10,\n",
    "                   n_jobs=-1)\n",
    "\n",
    "grid.fit(X_train_vectors, y_train)"
   ]
  },
  {
   "cell_type": "code",
   "execution_count": 163,
   "metadata": {},
   "outputs": [
    {
     "name": "stdout",
     "output_type": "stream",
     "text": [
      "Best estimator: Pipeline(steps=[('classifier', LogisticRegression(C=1))])\n",
      "Best params: {'classifier': LogisticRegression(C=1), 'classifier__C': 1, 'classifier__penalty': 'l2'}\n",
      "Best score: 0.9499661567618789\n"
     ]
    }
   ],
   "source": [
    "print(\"Best estimator:\", grid.best_estimator_)\n",
    "print(\"Best params:\", grid.best_params_)\n",
    "print(\"Best score:\", grid.best_score_)"
   ]
  },
  {
   "cell_type": "code",
   "execution_count": 57,
   "metadata": {},
   "outputs": [
    {
     "data": {
      "text/plain": [
       "array([[7714,  587],\n",
       "       [ 404, 9277]], dtype=int64)"
      ]
     },
     "execution_count": 57,
     "metadata": {},
     "output_type": "execute_result"
    }
   ],
   "source": [
    "y_pred = grid.predict(X_test_vectors)\n",
    "confusion_matrix(y_test, y_pred)"
   ]
  },
  {
   "cell_type": "code",
   "execution_count": 58,
   "metadata": {},
   "outputs": [],
   "source": [
    "import pickle\n",
    "\n",
    "filename = 'nlp_model_3.pkl'\n",
    "pickle.dump(grid, open(filename,'wb'))\n",
    "\n",
    "\n"
   ]
  },
  {
   "cell_type": "markdown",
   "metadata": {},
   "source": [
    "----"
   ]
  },
  {
   "cell_type": "markdown",
   "metadata": {},
   "source": [
    "## XGBoost"
   ]
  },
  {
   "cell_type": "code",
   "execution_count": 24,
   "metadata": {},
   "outputs": [
    {
     "name": "stdout",
     "output_type": "stream",
     "text": [
      "Collecting xgboost\n",
      "  Downloading xgboost-1.7.6-py3-none-win_amd64.whl (70.9 MB)\n",
      "     ---------------------------------------- 0.0/70.9 MB ? eta -:--:--\n",
      "     ---------------------------------------- 0.3/70.9 MB 7.9 MB/s eta 0:00:09\n",
      "     ---------------------------------------- 0.5/70.9 MB 6.0 MB/s eta 0:00:12\n",
      "     ---------------------------------------- 0.7/70.9 MB 5.8 MB/s eta 0:00:13\n",
      "      --------------------------------------- 0.9/70.9 MB 5.6 MB/s eta 0:00:13\n",
      "      --------------------------------------- 1.2/70.9 MB 5.4 MB/s eta 0:00:13\n",
      "      --------------------------------------- 1.7/70.9 MB 6.5 MB/s eta 0:00:11\n",
      "     - -------------------------------------- 2.3/70.9 MB 7.3 MB/s eta 0:00:10\n",
      "     - -------------------------------------- 2.7/70.9 MB 7.4 MB/s eta 0:00:10\n",
      "     - -------------------------------------- 2.8/70.9 MB 6.9 MB/s eta 0:00:10\n",
      "     - -------------------------------------- 3.1/70.9 MB 6.8 MB/s eta 0:00:10\n",
      "     - -------------------------------------- 3.2/70.9 MB 6.3 MB/s eta 0:00:11\n",
      "     - -------------------------------------- 3.5/70.9 MB 6.5 MB/s eta 0:00:11\n",
      "     -- ------------------------------------- 3.8/70.9 MB 6.4 MB/s eta 0:00:11\n",
      "     -- ------------------------------------- 4.0/70.9 MB 6.3 MB/s eta 0:00:11\n",
      "     -- ------------------------------------- 4.2/70.9 MB 6.1 MB/s eta 0:00:12\n",
      "     -- ------------------------------------- 4.5/70.9 MB 6.2 MB/s eta 0:00:11\n",
      "     -- ------------------------------------- 4.7/70.9 MB 6.0 MB/s eta 0:00:12\n",
      "     -- ------------------------------------- 4.9/70.9 MB 6.0 MB/s eta 0:00:12\n",
      "     -- ------------------------------------- 5.1/70.9 MB 5.8 MB/s eta 0:00:12\n",
      "     -- ------------------------------------- 5.3/70.9 MB 5.7 MB/s eta 0:00:12\n",
      "     --- ------------------------------------ 5.4/70.9 MB 5.7 MB/s eta 0:00:12\n",
      "     --- ------------------------------------ 5.5/70.9 MB 5.6 MB/s eta 0:00:12\n",
      "     --- ------------------------------------ 5.6/70.9 MB 5.4 MB/s eta 0:00:13\n",
      "     --- ------------------------------------ 5.7/70.9 MB 5.1 MB/s eta 0:00:13\n",
      "     --- ------------------------------------ 5.7/70.9 MB 5.0 MB/s eta 0:00:14\n",
      "     --- ------------------------------------ 5.8/70.9 MB 4.8 MB/s eta 0:00:14\n",
      "     --- ------------------------------------ 5.8/70.9 MB 4.7 MB/s eta 0:00:14\n",
      "     --- ------------------------------------ 5.9/70.9 MB 4.6 MB/s eta 0:00:15\n",
      "     --- ------------------------------------ 6.1/70.9 MB 4.6 MB/s eta 0:00:15\n",
      "     --- ------------------------------------ 6.3/70.9 MB 4.6 MB/s eta 0:00:15\n",
      "     --- ------------------------------------ 6.5/70.9 MB 4.5 MB/s eta 0:00:15\n",
      "     --- ------------------------------------ 6.6/70.9 MB 4.5 MB/s eta 0:00:15\n",
      "     --- ------------------------------------ 6.6/70.9 MB 4.5 MB/s eta 0:00:15\n",
      "     --- ------------------------------------ 6.9/70.9 MB 4.4 MB/s eta 0:00:15\n",
      "     ---- ----------------------------------- 7.3/70.9 MB 4.5 MB/s eta 0:00:15\n",
      "     ---- ----------------------------------- 7.6/70.9 MB 4.5 MB/s eta 0:00:14\n",
      "     ---- ----------------------------------- 7.8/70.9 MB 4.6 MB/s eta 0:00:14\n",
      "     ---- ----------------------------------- 8.2/70.9 MB 4.6 MB/s eta 0:00:14\n",
      "     ---- ----------------------------------- 8.5/70.9 MB 4.7 MB/s eta 0:00:14\n",
      "     ---- ----------------------------------- 8.8/70.9 MB 4.7 MB/s eta 0:00:14\n",
      "     ----- ---------------------------------- 9.2/70.9 MB 4.8 MB/s eta 0:00:13\n",
      "     ----- ---------------------------------- 9.5/70.9 MB 4.9 MB/s eta 0:00:13\n",
      "     ----- ---------------------------------- 9.8/70.9 MB 4.9 MB/s eta 0:00:13\n",
      "     ----- ---------------------------------- 10.0/70.9 MB 4.9 MB/s eta 0:00:13\n",
      "     ----- ---------------------------------- 10.2/70.9 MB 4.9 MB/s eta 0:00:13\n",
      "     ----- ---------------------------------- 10.5/70.9 MB 4.8 MB/s eta 0:00:13\n",
      "     ------ --------------------------------- 10.8/70.9 MB 4.9 MB/s eta 0:00:13\n",
      "     ------ --------------------------------- 11.0/70.9 MB 4.9 MB/s eta 0:00:13\n",
      "     ------ --------------------------------- 11.3/70.9 MB 4.9 MB/s eta 0:00:13\n",
      "     ------ --------------------------------- 11.6/70.9 MB 4.9 MB/s eta 0:00:13\n",
      "     ------ --------------------------------- 11.8/70.9 MB 4.8 MB/s eta 0:00:13\n",
      "     ------ --------------------------------- 12.1/70.9 MB 4.8 MB/s eta 0:00:13\n",
      "     ------ --------------------------------- 12.3/70.9 MB 4.7 MB/s eta 0:00:13\n",
      "     ------- -------------------------------- 12.6/70.9 MB 4.7 MB/s eta 0:00:13\n",
      "     ------- -------------------------------- 12.9/70.9 MB 4.6 MB/s eta 0:00:13\n",
      "     ------- -------------------------------- 13.2/70.9 MB 4.7 MB/s eta 0:00:13\n",
      "     ------- -------------------------------- 13.5/70.9 MB 4.8 MB/s eta 0:00:13\n",
      "     ------- -------------------------------- 13.8/70.9 MB 4.8 MB/s eta 0:00:12\n",
      "     ------- -------------------------------- 14.2/70.9 MB 4.8 MB/s eta 0:00:12\n",
      "     -------- ------------------------------- 14.4/70.9 MB 4.9 MB/s eta 0:00:12\n",
      "     -------- ------------------------------- 14.7/70.9 MB 4.9 MB/s eta 0:00:12\n",
      "     -------- ------------------------------- 15.0/70.9 MB 4.9 MB/s eta 0:00:12\n",
      "     -------- ------------------------------- 15.1/70.9 MB 4.9 MB/s eta 0:00:12\n",
      "     -------- ------------------------------- 15.3/70.9 MB 4.9 MB/s eta 0:00:12\n",
      "     -------- ------------------------------- 15.6/70.9 MB 4.9 MB/s eta 0:00:12\n",
      "     -------- ------------------------------- 15.9/70.9 MB 5.2 MB/s eta 0:00:11\n",
      "     --------- ------------------------------ 16.3/70.9 MB 5.6 MB/s eta 0:00:10\n",
      "     --------- ------------------------------ 16.5/70.9 MB 5.7 MB/s eta 0:00:10\n",
      "     --------- ------------------------------ 16.8/70.9 MB 6.1 MB/s eta 0:00:09\n",
      "     --------- ------------------------------ 17.2/70.9 MB 6.1 MB/s eta 0:00:09\n",
      "     --------- ------------------------------ 17.5/70.9 MB 6.1 MB/s eta 0:00:09\n",
      "     ---------- ----------------------------- 17.8/70.9 MB 6.0 MB/s eta 0:00:09\n",
      "     ---------- ----------------------------- 18.1/70.9 MB 6.1 MB/s eta 0:00:09\n",
      "     ---------- ----------------------------- 18.4/70.9 MB 6.1 MB/s eta 0:00:09\n",
      "     ---------- ----------------------------- 18.6/70.9 MB 6.0 MB/s eta 0:00:09\n",
      "     ---------- ----------------------------- 18.8/70.9 MB 6.0 MB/s eta 0:00:09\n",
      "     ---------- ----------------------------- 19.0/70.9 MB 5.9 MB/s eta 0:00:09\n",
      "     ---------- ----------------------------- 19.2/70.9 MB 5.8 MB/s eta 0:00:09\n",
      "     ---------- ----------------------------- 19.4/70.9 MB 5.7 MB/s eta 0:00:09\n",
      "     ----------- ---------------------------- 19.7/70.9 MB 5.7 MB/s eta 0:00:09\n",
      "     ----------- ---------------------------- 19.9/70.9 MB 5.7 MB/s eta 0:00:09\n",
      "     ----------- ---------------------------- 20.3/70.9 MB 5.8 MB/s eta 0:00:09\n",
      "     ----------- ---------------------------- 20.6/70.9 MB 5.8 MB/s eta 0:00:09\n",
      "     ----------- ---------------------------- 20.8/70.9 MB 5.8 MB/s eta 0:00:09\n",
      "     ----------- ---------------------------- 21.1/70.9 MB 5.7 MB/s eta 0:00:09\n",
      "     ----------- ---------------------------- 21.2/70.9 MB 5.7 MB/s eta 0:00:09\n",
      "     ------------ --------------------------- 21.4/70.9 MB 5.6 MB/s eta 0:00:09\n",
      "     ------------ --------------------------- 21.6/70.9 MB 5.6 MB/s eta 0:00:09\n",
      "     ------------ --------------------------- 21.9/70.9 MB 5.7 MB/s eta 0:00:09\n",
      "     ------------ --------------------------- 22.1/70.9 MB 5.6 MB/s eta 0:00:09\n",
      "     ------------ --------------------------- 22.5/70.9 MB 5.7 MB/s eta 0:00:09\n",
      "     ------------ --------------------------- 22.9/70.9 MB 5.8 MB/s eta 0:00:09\n",
      "     ------------- -------------------------- 23.2/70.9 MB 5.8 MB/s eta 0:00:09\n",
      "     ------------- -------------------------- 23.4/70.9 MB 5.8 MB/s eta 0:00:09\n",
      "     ------------- -------------------------- 23.8/70.9 MB 5.8 MB/s eta 0:00:09\n",
      "     ------------- -------------------------- 24.1/70.9 MB 5.7 MB/s eta 0:00:09\n",
      "     ------------- -------------------------- 24.4/70.9 MB 5.8 MB/s eta 0:00:08\n",
      "     ------------- -------------------------- 24.7/70.9 MB 5.7 MB/s eta 0:00:09\n",
      "     -------------- ------------------------- 25.0/70.9 MB 5.8 MB/s eta 0:00:08\n",
      "     -------------- ------------------------- 25.1/70.9 MB 5.7 MB/s eta 0:00:08\n",
      "     -------------- ------------------------- 25.3/70.9 MB 5.7 MB/s eta 0:00:09\n",
      "     -------------- ------------------------- 25.5/70.9 MB 5.7 MB/s eta 0:00:08\n",
      "     -------------- ------------------------- 25.6/70.9 MB 5.6 MB/s eta 0:00:09\n",
      "     -------------- ------------------------- 25.9/70.9 MB 5.6 MB/s eta 0:00:08\n",
      "     -------------- ------------------------- 26.1/70.9 MB 5.6 MB/s eta 0:00:09\n",
      "     -------------- ------------------------- 26.4/70.9 MB 5.5 MB/s eta 0:00:09\n",
      "     -------------- ------------------------- 26.5/70.9 MB 5.5 MB/s eta 0:00:09\n",
      "     --------------- ------------------------ 26.7/70.9 MB 5.5 MB/s eta 0:00:09\n",
      "     --------------- ------------------------ 26.9/70.9 MB 5.4 MB/s eta 0:00:09\n",
      "     --------------- ------------------------ 27.2/70.9 MB 5.4 MB/s eta 0:00:09\n",
      "     --------------- ------------------------ 27.4/70.9 MB 5.4 MB/s eta 0:00:09\n",
      "     --------------- ------------------------ 27.6/70.9 MB 5.3 MB/s eta 0:00:09\n",
      "     --------------- ------------------------ 27.8/70.9 MB 5.3 MB/s eta 0:00:09\n",
      "     --------------- ------------------------ 27.9/70.9 MB 5.2 MB/s eta 0:00:09\n",
      "     --------------- ------------------------ 28.1/70.9 MB 5.1 MB/s eta 0:00:09\n",
      "     ---------------- ----------------------- 28.5/70.9 MB 5.2 MB/s eta 0:00:09\n",
      "     ---------------- ----------------------- 28.8/70.9 MB 5.2 MB/s eta 0:00:09\n",
      "     ---------------- ----------------------- 28.9/70.9 MB 5.1 MB/s eta 0:00:09\n",
      "     ---------------- ----------------------- 29.1/70.9 MB 5.0 MB/s eta 0:00:09\n",
      "     ---------------- ----------------------- 29.1/70.9 MB 5.1 MB/s eta 0:00:09\n",
      "     ---------------- ----------------------- 29.2/70.9 MB 4.9 MB/s eta 0:00:09\n",
      "     ---------------- ----------------------- 29.3/70.9 MB 4.9 MB/s eta 0:00:09\n",
      "     ---------------- ----------------------- 29.3/70.9 MB 4.8 MB/s eta 0:00:09\n",
      "     ---------------- ----------------------- 29.5/70.9 MB 4.8 MB/s eta 0:00:09\n",
      "     ---------------- ----------------------- 29.7/70.9 MB 4.8 MB/s eta 0:00:09\n",
      "     ---------------- ----------------------- 29.9/70.9 MB 4.8 MB/s eta 0:00:09\n",
      "     ----------------- ---------------------- 30.3/70.9 MB 4.8 MB/s eta 0:00:09\n",
      "     ----------------- ---------------------- 30.5/70.9 MB 4.8 MB/s eta 0:00:09\n",
      "     ----------------- ---------------------- 31.0/70.9 MB 4.8 MB/s eta 0:00:09\n",
      "     ----------------- ---------------------- 31.3/70.9 MB 4.9 MB/s eta 0:00:09\n",
      "     ----------------- ---------------------- 31.6/70.9 MB 5.0 MB/s eta 0:00:08\n",
      "     ----------------- ---------------------- 31.9/70.9 MB 5.0 MB/s eta 0:00:08\n",
      "     ------------------ --------------------- 32.1/70.9 MB 5.0 MB/s eta 0:00:08\n",
      "     ------------------ --------------------- 32.3/70.9 MB 5.0 MB/s eta 0:00:08\n",
      "     ------------------ --------------------- 32.4/70.9 MB 4.9 MB/s eta 0:00:08\n",
      "     ------------------ --------------------- 32.5/70.9 MB 4.8 MB/s eta 0:00:09\n",
      "     ------------------ --------------------- 32.8/70.9 MB 4.7 MB/s eta 0:00:09\n",
      "     ------------------ --------------------- 32.9/70.9 MB 4.7 MB/s eta 0:00:09\n",
      "     ------------------ --------------------- 33.2/70.9 MB 4.7 MB/s eta 0:00:09\n",
      "     ------------------ --------------------- 33.5/70.9 MB 4.7 MB/s eta 0:00:08\n",
      "     ------------------- -------------------- 33.9/70.9 MB 4.7 MB/s eta 0:00:08\n",
      "     ------------------- -------------------- 34.2/70.9 MB 4.7 MB/s eta 0:00:08\n",
      "     ------------------- -------------------- 34.5/70.9 MB 4.7 MB/s eta 0:00:08\n",
      "     ------------------- -------------------- 34.8/70.9 MB 4.7 MB/s eta 0:00:08\n",
      "     ------------------- -------------------- 35.0/70.9 MB 4.7 MB/s eta 0:00:08\n",
      "     ------------------- -------------------- 35.2/70.9 MB 4.7 MB/s eta 0:00:08\n",
      "     -------------------- ------------------- 35.6/70.9 MB 4.8 MB/s eta 0:00:08\n",
      "     -------------------- ------------------- 36.0/70.9 MB 4.9 MB/s eta 0:00:08\n",
      "     -------------------- ------------------- 36.3/70.9 MB 5.0 MB/s eta 0:00:07\n",
      "     -------------------- ------------------- 36.8/70.9 MB 5.1 MB/s eta 0:00:07\n",
      "     -------------------- ------------------- 37.1/70.9 MB 5.2 MB/s eta 0:00:07\n",
      "     --------------------- ------------------ 37.4/70.9 MB 5.2 MB/s eta 0:00:07\n",
      "     --------------------- ------------------ 37.7/70.9 MB 5.2 MB/s eta 0:00:07\n",
      "     --------------------- ------------------ 37.9/70.9 MB 5.3 MB/s eta 0:00:07\n",
      "     --------------------- ------------------ 38.3/70.9 MB 5.5 MB/s eta 0:00:06\n",
      "     --------------------- ------------------ 38.7/70.9 MB 5.5 MB/s eta 0:00:06\n",
      "     --------------------- ------------------ 38.9/70.9 MB 5.5 MB/s eta 0:00:06\n",
      "     ---------------------- ----------------- 39.3/70.9 MB 5.7 MB/s eta 0:00:06\n",
      "     ---------------------- ----------------- 39.7/70.9 MB 6.2 MB/s eta 0:00:06\n",
      "     ---------------------- ----------------- 40.0/70.9 MB 6.4 MB/s eta 0:00:05\n",
      "     ---------------------- ----------------- 40.4/70.9 MB 6.4 MB/s eta 0:00:05\n",
      "     ---------------------- ----------------- 40.7/70.9 MB 6.4 MB/s eta 0:00:05\n",
      "     ----------------------- ---------------- 41.1/70.9 MB 6.4 MB/s eta 0:00:05\n",
      "     ----------------------- ---------------- 41.2/70.9 MB 6.3 MB/s eta 0:00:05\n",
      "     ----------------------- ---------------- 41.7/70.9 MB 6.3 MB/s eta 0:00:05\n",
      "     ----------------------- ---------------- 41.9/70.9 MB 6.3 MB/s eta 0:00:05\n",
      "     ----------------------- ---------------- 42.3/70.9 MB 6.4 MB/s eta 0:00:05\n",
      "     ----------------------- ---------------- 42.5/70.9 MB 6.4 MB/s eta 0:00:05\n",
      "     ------------------------ --------------- 42.9/70.9 MB 6.8 MB/s eta 0:00:05\n",
      "     ------------------------ --------------- 43.3/70.9 MB 7.0 MB/s eta 0:00:04\n",
      "     ------------------------ --------------- 43.7/70.9 MB 7.0 MB/s eta 0:00:04\n",
      "     ------------------------ --------------- 44.1/70.9 MB 7.0 MB/s eta 0:00:04\n",
      "     ------------------------- -------------- 44.4/70.9 MB 7.0 MB/s eta 0:00:04\n",
      "     ------------------------- -------------- 44.8/70.9 MB 7.1 MB/s eta 0:00:04\n",
      "     ------------------------- -------------- 45.1/70.9 MB 7.3 MB/s eta 0:00:04\n",
      "     ------------------------- -------------- 45.6/70.9 MB 7.4 MB/s eta 0:00:04\n",
      "     ------------------------- -------------- 45.9/70.9 MB 7.5 MB/s eta 0:00:04\n",
      "     -------------------------- ------------- 46.2/70.9 MB 7.4 MB/s eta 0:00:04\n",
      "     -------------------------- ------------- 46.4/70.9 MB 7.4 MB/s eta 0:00:04\n",
      "     -------------------------- ------------- 46.8/70.9 MB 7.1 MB/s eta 0:00:04\n",
      "     -------------------------- ------------- 47.2/70.9 MB 7.3 MB/s eta 0:00:04\n",
      "     -------------------------- ------------- 47.6/70.9 MB 7.2 MB/s eta 0:00:04\n",
      "     --------------------------- ------------ 47.9/70.9 MB 7.4 MB/s eta 0:00:04\n",
      "     --------------------------- ------------ 48.3/70.9 MB 7.4 MB/s eta 0:00:04\n",
      "     --------------------------- ------------ 48.7/70.9 MB 7.4 MB/s eta 0:00:04\n",
      "     --------------------------- ------------ 48.9/70.9 MB 7.2 MB/s eta 0:00:04\n",
      "     --------------------------- ------------ 49.3/70.9 MB 7.4 MB/s eta 0:00:03\n",
      "     --------------------------- ------------ 49.6/70.9 MB 7.4 MB/s eta 0:00:03\n",
      "     ---------------------------- ----------- 50.0/70.9 MB 7.4 MB/s eta 0:00:03\n",
      "     ---------------------------- ----------- 50.3/70.9 MB 7.3 MB/s eta 0:00:03\n",
      "     ---------------------------- ----------- 50.6/70.9 MB 7.3 MB/s eta 0:00:03\n",
      "     ---------------------------- ----------- 51.0/70.9 MB 7.3 MB/s eta 0:00:03\n",
      "     ---------------------------- ----------- 51.2/70.9 MB 7.4 MB/s eta 0:00:03\n",
      "     ---------------------------- ----------- 51.4/70.9 MB 7.3 MB/s eta 0:00:03\n",
      "     ----------------------------- ---------- 51.6/70.9 MB 7.1 MB/s eta 0:00:03\n",
      "     ----------------------------- ---------- 52.0/70.9 MB 7.1 MB/s eta 0:00:03\n",
      "     ----------------------------- ---------- 52.2/70.9 MB 7.2 MB/s eta 0:00:03\n",
      "     ----------------------------- ---------- 52.6/70.9 MB 7.3 MB/s eta 0:00:03\n",
      "     ----------------------------- ---------- 52.8/70.9 MB 7.0 MB/s eta 0:00:03\n",
      "     ----------------------------- ---------- 53.1/70.9 MB 7.0 MB/s eta 0:00:03\n",
      "     ------------------------------ --------- 53.2/70.9 MB 7.0 MB/s eta 0:00:03\n",
      "     ------------------------------ --------- 53.5/70.9 MB 6.8 MB/s eta 0:00:03\n",
      "     ------------------------------ --------- 53.8/70.9 MB 6.8 MB/s eta 0:00:03\n",
      "     ------------------------------ --------- 54.0/70.9 MB 6.8 MB/s eta 0:00:03\n",
      "     ------------------------------ --------- 54.4/70.9 MB 6.7 MB/s eta 0:00:03\n",
      "     ------------------------------ --------- 54.7/70.9 MB 6.7 MB/s eta 0:00:03\n",
      "     ------------------------------ --------- 54.8/70.9 MB 6.6 MB/s eta 0:00:03\n",
      "     ------------------------------ --------- 54.9/70.9 MB 6.4 MB/s eta 0:00:03\n",
      "     ------------------------------- -------- 55.0/70.9 MB 6.2 MB/s eta 0:00:03\n",
      "     ------------------------------- -------- 55.1/70.9 MB 6.1 MB/s eta 0:00:03\n",
      "     ------------------------------- -------- 55.2/70.9 MB 6.0 MB/s eta 0:00:03\n",
      "     ------------------------------- -------- 55.2/70.9 MB 5.8 MB/s eta 0:00:03\n",
      "     ------------------------------- -------- 55.2/70.9 MB 5.7 MB/s eta 0:00:03\n",
      "     ------------------------------- -------- 55.3/70.9 MB 5.6 MB/s eta 0:00:03\n",
      "     ------------------------------- -------- 55.3/70.9 MB 5.5 MB/s eta 0:00:03\n",
      "     ------------------------------- -------- 55.6/70.9 MB 5.5 MB/s eta 0:00:03\n",
      "     ------------------------------- -------- 56.0/70.9 MB 5.5 MB/s eta 0:00:03\n",
      "     ------------------------------- -------- 56.3/70.9 MB 5.4 MB/s eta 0:00:03\n",
      "     ------------------------------- -------- 56.6/70.9 MB 5.4 MB/s eta 0:00:03\n",
      "     -------------------------------- ------- 57.0/70.9 MB 5.5 MB/s eta 0:00:03\n",
      "     -------------------------------- ------- 57.3/70.9 MB 5.5 MB/s eta 0:00:03\n",
      "     -------------------------------- ------- 57.7/70.9 MB 5.4 MB/s eta 0:00:03\n",
      "     -------------------------------- ------- 58.0/70.9 MB 5.4 MB/s eta 0:00:03\n",
      "     -------------------------------- ------- 58.1/70.9 MB 5.4 MB/s eta 0:00:03\n",
      "     -------------------------------- ------- 58.4/70.9 MB 5.3 MB/s eta 0:00:03\n",
      "     --------------------------------- ------ 58.8/70.9 MB 5.3 MB/s eta 0:00:03\n",
      "     --------------------------------- ------ 59.0/70.9 MB 5.3 MB/s eta 0:00:03\n",
      "     --------------------------------- ------ 59.4/70.9 MB 5.3 MB/s eta 0:00:03\n",
      "     --------------------------------- ------ 59.6/70.9 MB 5.3 MB/s eta 0:00:03\n",
      "     --------------------------------- ------ 60.0/70.9 MB 5.3 MB/s eta 0:00:03\n",
      "     --------------------------------- ------ 60.2/70.9 MB 5.2 MB/s eta 0:00:03\n",
      "     ---------------------------------- ----- 60.6/70.9 MB 5.2 MB/s eta 0:00:02\n",
      "     ---------------------------------- ----- 61.0/70.9 MB 5.3 MB/s eta 0:00:02\n",
      "     ---------------------------------- ----- 61.3/70.9 MB 5.3 MB/s eta 0:00:02\n",
      "     ---------------------------------- ----- 61.7/70.9 MB 5.4 MB/s eta 0:00:02\n",
      "     ---------------------------------- ----- 61.9/70.9 MB 5.4 MB/s eta 0:00:02\n",
      "     ----------------------------------- ---- 62.4/70.9 MB 5.4 MB/s eta 0:00:02\n",
      "     ----------------------------------- ---- 62.6/70.9 MB 5.4 MB/s eta 0:00:02\n",
      "     ----------------------------------- ---- 62.8/70.9 MB 5.3 MB/s eta 0:00:02\n",
      "     ----------------------------------- ---- 63.2/70.9 MB 5.5 MB/s eta 0:00:02\n",
      "     ----------------------------------- ---- 63.5/70.9 MB 5.5 MB/s eta 0:00:02\n",
      "     ------------------------------------ --- 64.0/70.9 MB 5.6 MB/s eta 0:00:02\n",
      "     ------------------------------------ --- 64.2/70.9 MB 5.6 MB/s eta 0:00:02\n",
      "     ------------------------------------ --- 64.5/70.9 MB 5.5 MB/s eta 0:00:02\n",
      "     ------------------------------------ --- 64.8/70.9 MB 5.5 MB/s eta 0:00:02\n",
      "     ------------------------------------ --- 65.1/70.9 MB 5.7 MB/s eta 0:00:02\n",
      "     ------------------------------------ --- 65.4/70.9 MB 6.1 MB/s eta 0:00:01\n",
      "     ------------------------------------- -- 65.8/70.9 MB 6.8 MB/s eta 0:00:01\n",
      "     ------------------------------------- -- 66.2/70.9 MB 6.8 MB/s eta 0:00:01\n",
      "     ------------------------------------- -- 66.6/70.9 MB 6.9 MB/s eta 0:00:01\n",
      "     ------------------------------------- -- 67.0/70.9 MB 7.0 MB/s eta 0:00:01\n",
      "     ------------------------------------- -- 67.3/70.9 MB 6.9 MB/s eta 0:00:01\n",
      "     -------------------------------------- - 67.7/70.9 MB 7.0 MB/s eta 0:00:01\n",
      "     -------------------------------------- - 67.9/70.9 MB 6.8 MB/s eta 0:00:01\n",
      "     -------------------------------------- - 68.1/70.9 MB 6.9 MB/s eta 0:00:01\n",
      "     -------------------------------------- - 68.4/70.9 MB 6.9 MB/s eta 0:00:01\n",
      "     -------------------------------------- - 68.9/70.9 MB 7.0 MB/s eta 0:00:01\n",
      "     ---------------------------------------  69.2/70.9 MB 6.9 MB/s eta 0:00:01\n",
      "     ---------------------------------------  69.4/70.9 MB 7.0 MB/s eta 0:00:01\n",
      "     ---------------------------------------  69.6/70.9 MB 6.8 MB/s eta 0:00:01\n",
      "     ---------------------------------------  69.8/70.9 MB 6.7 MB/s eta 0:00:01\n",
      "     ---------------------------------------  69.9/70.9 MB 6.7 MB/s eta 0:00:01\n",
      "     ---------------------------------------  70.2/70.9 MB 6.6 MB/s eta 0:00:01\n",
      "     ---------------------------------------  70.5/70.9 MB 6.7 MB/s eta 0:00:01\n",
      "     ---------------------------------------  70.9/70.9 MB 6.7 MB/s eta 0:00:01\n",
      "     ---------------------------------------  70.9/70.9 MB 6.7 MB/s eta 0:00:01\n",
      "     ---------------------------------------  70.9/70.9 MB 6.7 MB/s eta 0:00:01\n",
      "     ---------------------------------------- 70.9/70.9 MB 6.2 MB/s eta 0:00:00\n",
      "Requirement already satisfied: scipy in c:\\users\\alexc\\appdata\\local\\programs\\python\\python310\\lib\\site-packages (from xgboost) (1.10.1)\n",
      "Requirement already satisfied: numpy in c:\\users\\alexc\\appdata\\local\\programs\\python\\python310\\lib\\site-packages (from xgboost) (1.24.2)\n",
      "Installing collected packages: xgboost\n",
      "Successfully installed xgboost-1.7.6\n",
      "Note: you may need to restart the kernel to use updated packages.\n"
     ]
    },
    {
     "name": "stderr",
     "output_type": "stream",
     "text": [
      "\n",
      "[notice] A new release of pip is available: 23.0.1 -> 23.1.2\n",
      "[notice] To update, run: python.exe -m pip install --upgrade pip\n"
     ]
    }
   ],
   "source": [
    "%pip install xgboost"
   ]
  },
  {
   "cell_type": "code",
   "execution_count": 59,
   "metadata": {},
   "outputs": [],
   "source": [
    "import xgboost"
   ]
  },
  {
   "cell_type": "code",
   "execution_count": 161,
   "metadata": {},
   "outputs": [
    {
     "name": "stdout",
     "output_type": "stream",
     "text": [
      "[0]\tvalidation_0-logloss:0.53929\n"
     ]
    },
    {
     "ename": "KeyboardInterrupt",
     "evalue": "",
     "output_type": "error",
     "traceback": [
      "\u001b[1;31m---------------------------------------------------------------------------\u001b[0m",
      "\u001b[1;31mKeyboardInterrupt\u001b[0m                         Traceback (most recent call last)",
      "Cell \u001b[1;32mIn[161], line 9\u001b[0m\n\u001b[0;32m      6\u001b[0m X_test_vectors \u001b[39m=\u001b[39m vectorizer\u001b[39m.\u001b[39mtransform(X_val)\n\u001b[0;32m      8\u001b[0m xgb \u001b[39m=\u001b[39m xgboost\u001b[39m.\u001b[39mXGBClassifier(n_estimators \u001b[39m=\u001b[39m \u001b[39m50\u001b[39m\u001b[39m-\u001b[39m\u001b[39m0\u001b[39m,max_depth \u001b[39m=\u001b[39m \u001b[39m5\u001b[39m, n_jobs \u001b[39m=\u001b[39m \u001b[39m-\u001b[39m\u001b[39m1\u001b[39m, early_stopping_rounds \u001b[39m=\u001b[39m \u001b[39m28\u001b[39m)\n\u001b[1;32m----> 9\u001b[0m xgb\u001b[39m.\u001b[39;49mfit(X_train_vectors,y_train, eval_set \u001b[39m=\u001b[39;49m [(X_test_vectors, y_val)])\n",
      "File \u001b[1;32mc:\\Users\\alexc\\AppData\\Local\\Programs\\Python\\Python310\\lib\\site-packages\\xgboost\\core.py:620\u001b[0m, in \u001b[0;36mrequire_keyword_args.<locals>.throw_if.<locals>.inner_f\u001b[1;34m(*args, **kwargs)\u001b[0m\n\u001b[0;32m    618\u001b[0m \u001b[39mfor\u001b[39;00m k, arg \u001b[39min\u001b[39;00m \u001b[39mzip\u001b[39m(sig\u001b[39m.\u001b[39mparameters, args):\n\u001b[0;32m    619\u001b[0m     kwargs[k] \u001b[39m=\u001b[39m arg\n\u001b[1;32m--> 620\u001b[0m \u001b[39mreturn\u001b[39;00m func(\u001b[39m*\u001b[39m\u001b[39m*\u001b[39mkwargs)\n",
      "File \u001b[1;32mc:\\Users\\alexc\\AppData\\Local\\Programs\\Python\\Python310\\lib\\site-packages\\xgboost\\sklearn.py:1490\u001b[0m, in \u001b[0;36mXGBClassifier.fit\u001b[1;34m(self, X, y, sample_weight, base_margin, eval_set, eval_metric, early_stopping_rounds, verbose, xgb_model, sample_weight_eval_set, base_margin_eval_set, feature_weights, callbacks)\u001b[0m\n\u001b[0;32m   1462\u001b[0m (\n\u001b[0;32m   1463\u001b[0m     model,\n\u001b[0;32m   1464\u001b[0m     metric,\n\u001b[1;32m   (...)\u001b[0m\n\u001b[0;32m   1469\u001b[0m     xgb_model, eval_metric, params, early_stopping_rounds, callbacks\n\u001b[0;32m   1470\u001b[0m )\n\u001b[0;32m   1471\u001b[0m train_dmatrix, evals \u001b[39m=\u001b[39m _wrap_evaluation_matrices(\n\u001b[0;32m   1472\u001b[0m     missing\u001b[39m=\u001b[39m\u001b[39mself\u001b[39m\u001b[39m.\u001b[39mmissing,\n\u001b[0;32m   1473\u001b[0m     X\u001b[39m=\u001b[39mX,\n\u001b[1;32m   (...)\u001b[0m\n\u001b[0;32m   1487\u001b[0m     feature_types\u001b[39m=\u001b[39m\u001b[39mself\u001b[39m\u001b[39m.\u001b[39mfeature_types,\n\u001b[0;32m   1488\u001b[0m )\n\u001b[1;32m-> 1490\u001b[0m \u001b[39mself\u001b[39m\u001b[39m.\u001b[39m_Booster \u001b[39m=\u001b[39m train(\n\u001b[0;32m   1491\u001b[0m     params,\n\u001b[0;32m   1492\u001b[0m     train_dmatrix,\n\u001b[0;32m   1493\u001b[0m     \u001b[39mself\u001b[39;49m\u001b[39m.\u001b[39;49mget_num_boosting_rounds(),\n\u001b[0;32m   1494\u001b[0m     evals\u001b[39m=\u001b[39;49mevals,\n\u001b[0;32m   1495\u001b[0m     early_stopping_rounds\u001b[39m=\u001b[39;49mearly_stopping_rounds,\n\u001b[0;32m   1496\u001b[0m     evals_result\u001b[39m=\u001b[39;49mevals_result,\n\u001b[0;32m   1497\u001b[0m     obj\u001b[39m=\u001b[39;49mobj,\n\u001b[0;32m   1498\u001b[0m     custom_metric\u001b[39m=\u001b[39;49mmetric,\n\u001b[0;32m   1499\u001b[0m     verbose_eval\u001b[39m=\u001b[39;49mverbose,\n\u001b[0;32m   1500\u001b[0m     xgb_model\u001b[39m=\u001b[39;49mmodel,\n\u001b[0;32m   1501\u001b[0m     callbacks\u001b[39m=\u001b[39;49mcallbacks,\n\u001b[0;32m   1502\u001b[0m )\n\u001b[0;32m   1504\u001b[0m \u001b[39mif\u001b[39;00m \u001b[39mnot\u001b[39;00m callable(\u001b[39mself\u001b[39m\u001b[39m.\u001b[39mobjective):\n\u001b[0;32m   1505\u001b[0m     \u001b[39mself\u001b[39m\u001b[39m.\u001b[39mobjective \u001b[39m=\u001b[39m params[\u001b[39m\"\u001b[39m\u001b[39mobjective\u001b[39m\u001b[39m\"\u001b[39m]\n",
      "File \u001b[1;32mc:\\Users\\alexc\\AppData\\Local\\Programs\\Python\\Python310\\lib\\site-packages\\xgboost\\core.py:620\u001b[0m, in \u001b[0;36mrequire_keyword_args.<locals>.throw_if.<locals>.inner_f\u001b[1;34m(*args, **kwargs)\u001b[0m\n\u001b[0;32m    618\u001b[0m \u001b[39mfor\u001b[39;00m k, arg \u001b[39min\u001b[39;00m \u001b[39mzip\u001b[39m(sig\u001b[39m.\u001b[39mparameters, args):\n\u001b[0;32m    619\u001b[0m     kwargs[k] \u001b[39m=\u001b[39m arg\n\u001b[1;32m--> 620\u001b[0m \u001b[39mreturn\u001b[39;00m func(\u001b[39m*\u001b[39m\u001b[39m*\u001b[39mkwargs)\n",
      "File \u001b[1;32mc:\\Users\\alexc\\AppData\\Local\\Programs\\Python\\Python310\\lib\\site-packages\\xgboost\\training.py:185\u001b[0m, in \u001b[0;36mtrain\u001b[1;34m(params, dtrain, num_boost_round, evals, obj, feval, maximize, early_stopping_rounds, evals_result, verbose_eval, xgb_model, callbacks, custom_metric)\u001b[0m\n\u001b[0;32m    183\u001b[0m \u001b[39mif\u001b[39;00m cb_container\u001b[39m.\u001b[39mbefore_iteration(bst, i, dtrain, evals):\n\u001b[0;32m    184\u001b[0m     \u001b[39mbreak\u001b[39;00m\n\u001b[1;32m--> 185\u001b[0m bst\u001b[39m.\u001b[39;49mupdate(dtrain, i, obj)\n\u001b[0;32m    186\u001b[0m \u001b[39mif\u001b[39;00m cb_container\u001b[39m.\u001b[39mafter_iteration(bst, i, dtrain, evals):\n\u001b[0;32m    187\u001b[0m     \u001b[39mbreak\u001b[39;00m\n",
      "File \u001b[1;32mc:\\Users\\alexc\\AppData\\Local\\Programs\\Python\\Python310\\lib\\site-packages\\xgboost\\core.py:1918\u001b[0m, in \u001b[0;36mBooster.update\u001b[1;34m(self, dtrain, iteration, fobj)\u001b[0m\n\u001b[0;32m   1915\u001b[0m \u001b[39mself\u001b[39m\u001b[39m.\u001b[39m_validate_dmatrix_features(dtrain)\n\u001b[0;32m   1917\u001b[0m \u001b[39mif\u001b[39;00m fobj \u001b[39mis\u001b[39;00m \u001b[39mNone\u001b[39;00m:\n\u001b[1;32m-> 1918\u001b[0m     _check_call(_LIB\u001b[39m.\u001b[39;49mXGBoosterUpdateOneIter(\u001b[39mself\u001b[39;49m\u001b[39m.\u001b[39;49mhandle,\n\u001b[0;32m   1919\u001b[0m                                             ctypes\u001b[39m.\u001b[39;49mc_int(iteration),\n\u001b[0;32m   1920\u001b[0m                                             dtrain\u001b[39m.\u001b[39;49mhandle))\n\u001b[0;32m   1921\u001b[0m \u001b[39melse\u001b[39;00m:\n\u001b[0;32m   1922\u001b[0m     pred \u001b[39m=\u001b[39m \u001b[39mself\u001b[39m\u001b[39m.\u001b[39mpredict(dtrain, output_margin\u001b[39m=\u001b[39m\u001b[39mTrue\u001b[39;00m, training\u001b[39m=\u001b[39m\u001b[39mTrue\u001b[39;00m)\n",
      "\u001b[1;31mKeyboardInterrupt\u001b[0m: "
     ]
    }
   ],
   "source": [
    "X_train, X_val, y_train, y_val = train_test_split(df['Texto procesado'], df['Target'], test_size=0.2, random_state=42)\n",
    "\n",
    "\n",
    "vectorizer = CountVectorizer(ngram_range=(1,3))\n",
    "X_train_vectors = vectorizer.fit_transform(X_train)\n",
    "X_test_vectors = vectorizer.transform(X_val)\n",
    "\n",
    "xgb = xgboost.XGBClassifier(n_estimators = 500,max_depth = 5, n_jobs = -1, early_stopping_rounds = 28)\n",
    "xgb.fit(X_train_vectors,y_train, eval_set = [(X_test_vectors, y_val)])\n",
    "\n"
   ]
  },
  {
   "cell_type": "code",
   "execution_count": null,
   "metadata": {},
   "outputs": [
    {
     "data": {
      "text/plain": [
       "0.945148364739008"
      ]
     },
     "execution_count": 135,
     "metadata": {},
     "output_type": "execute_result"
    }
   ],
   "source": [
    "pred = xgb.predict(X_test_vectors)\n",
    "pred_train = xgb.predict(X_train_vectors)\n",
    "xgb.score(X_test_vectors, y_val)"
   ]
  },
  {
   "cell_type": "code",
   "execution_count": null,
   "metadata": {},
   "outputs": [
    {
     "data": {
      "text/plain": [
       "array([[7971,  524],\n",
       "       [ 489, 9484]], dtype=int64)"
      ]
     },
     "execution_count": 136,
     "metadata": {},
     "output_type": "execute_result"
    }
   ],
   "source": [
    "confusion_matrix(y_val, pred)"
   ]
  },
  {
   "cell_type": "markdown",
   "metadata": {},
   "source": [
    "## CatBoost Classifier"
   ]
  },
  {
   "cell_type": "code",
   "execution_count": 22,
   "metadata": {},
   "outputs": [
    {
     "name": "stdout",
     "output_type": "stream",
     "text": [
      "Precisión del modelo: 92.65%\n"
     ]
    }
   ],
   "source": [
    "from catboost import CatBoostClassifier\n",
    "\n",
    "X_train, X_test, y_train, y_test = train_test_split(df['Texto procesado'], df['Target'], test_size=0.2)\n",
    "\n",
    "vectorizer = CountVectorizer(ngram_range=(1,3))\n",
    "X_train_vectors = vectorizer.fit_transform(X_train)\n",
    "X_test_vectors = vectorizer.transform(X_test)\n",
    "\n",
    "model = CatBoostClassifier(iterations=100, learning_rate=0.1, random_state=42)\n",
    "model.fit(X_train_vectors, y_train, verbose=False)\n",
    "\n",
    "# Realizar predicciones en el conjunto de prueba\n",
    "y_pred = model.predict(X_test_vectors)\n",
    "\n",
    "# Calcular la precisión del modelo\n",
    "accuracy = accuracy_score(y_test, y_pred)\n",
    "print(\"Precisión del modelo: {:.2f}%\".format(accuracy * 100))"
   ]
  },
  {
   "cell_type": "code",
   "execution_count": 23,
   "metadata": {},
   "outputs": [
    {
     "data": {
      "text/plain": [
       "array([[6453,  750],\n",
       "       [ 372, 7700]], dtype=int64)"
      ]
     },
     "execution_count": 23,
     "metadata": {},
     "output_type": "execute_result"
    }
   ],
   "source": [
    "confusion_matrix(y_test, y_pred)"
   ]
  }
 ],
 "metadata": {
  "kernelspec": {
   "display_name": "Python 3",
   "language": "python",
   "name": "python3"
  },
  "language_info": {
   "codemirror_mode": {
    "name": "ipython",
    "version": 3
   },
   "file_extension": ".py",
   "mimetype": "text/x-python",
   "name": "python",
   "nbconvert_exporter": "python",
   "pygments_lexer": "ipython3",
   "version": "3.10.0"
  },
  "orig_nbformat": 4
 },
 "nbformat": 4,
 "nbformat_minor": 2
}
